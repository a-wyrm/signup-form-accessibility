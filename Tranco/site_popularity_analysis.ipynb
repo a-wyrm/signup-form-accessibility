{
 "cells": [
  {
   "cell_type": "code",
   "execution_count": 2,
   "metadata": {},
   "outputs": [],
   "source": [
    "import matplotlib.pyplot as plt\n",
    "import numpy as np\n",
    "import pandas as pd\n",
    "import seaborn as sns"
   ]
  },
  {
   "cell_type": "code",
   "execution_count": 3,
   "metadata": {},
   "outputs": [],
   "source": [
    "# violations csv with website name and number of violations\n",
    "df = pd.read_csv(\"./sign_up_violations.csv\")\n",
    "df['tranco_rank'] = \"\"\n",
    "t_df = pd.read_csv(\"./tranco_W8P49.csv\")"
   ]
  },
  {
   "cell_type": "code",
   "execution_count": 4,
   "metadata": {},
   "outputs": [
    {
     "data": {
      "application/vnd.microsoft.datawrangler.viewer.v0+json": {
       "columns": [
        {
         "name": "index",
         "rawType": "int64",
         "type": "integer"
        },
        {
         "name": "Website",
         "rawType": "object",
         "type": "string"
        },
        {
         "name": "Number of Violations",
         "rawType": "int64",
         "type": "integer"
        },
        {
         "name": "tranco_rank",
         "rawType": "float64",
         "type": "float"
        }
       ],
       "conversionMethod": "pd.DataFrame",
       "ref": "87d0f3c2-e20b-43dc-a9ba-4a3f223ef883",
       "rows": [
        [
         "1",
         "100000jobs.ch",
         "4",
         "2338998.0"
        ],
        [
         "2",
         "100hires.com",
         "2",
         "935835.0"
        ],
        [
         "3",
         "100thieves.com",
         "9",
         "343876.0"
        ],
        [
         "5",
         "111skin.com",
         "7",
         "409507.0"
        ],
        [
         "7",
         "11bravos.com",
         "6",
         "1533377.0"
        ],
        [
         "8",
         "123.is",
         "6",
         "1050370.0"
        ],
        [
         "10",
         "123stitch.com",
         "9",
         "58213.0"
        ],
        [
         "11",
         "123teachme.com",
         "6",
         "195355.0"
        ],
        [
         "12",
         "127yardsale.com",
         "7",
         "2400070.0"
        ],
        [
         "13",
         "1290sqm.com",
         "5",
         "2525403.0"
        ],
        [
         "14",
         "12thtribe.com",
         "7",
         "204836.0"
        ],
        [
         "15",
         "12weekyear.com",
         "5",
         "554787.0"
        ],
        [
         "16",
         "1800wheelchair.com",
         "8",
         "171397.0"
        ],
        [
         "19",
         "1928.com",
         "4",
         "698644.0"
        ],
        [
         "21",
         "1hairstop.in",
         "4",
         "733201.0"
        ],
        [
         "22",
         "1ml.com",
         "8",
         "514301.0"
        ],
        [
         "23",
         "1sale.com",
         "11",
         "183688.0"
        ],
        [
         "24",
         "1saleaday.com",
         "11",
         "1135158.0"
        ],
        [
         "25",
         "1shortlink.com",
         "5",
         "385352.0"
        ],
        [
         "26",
         "1stphorm.com",
         "4",
         "108916.0"
        ],
        [
         "28",
         "1upnutrition.com",
         "10",
         "240587.0"
        ],
        [
         "29",
         "20i.com",
         "5",
         "149310.0"
        ],
        [
         "30",
         "20x200.com",
         "8",
         "518590.0"
        ],
        [
         "31",
         "21-draw.com",
         "5",
         "274093.0"
        ],
        [
         "32",
         "211ct.org",
         "4",
         "330804.0"
        ],
        [
         "33",
         "21stmortgage.com",
         "6",
         "197548.0"
        ],
        [
         "35",
         "22daysnutrition.com",
         "6",
         "1062399.0"
        ],
        [
         "36",
         "22vd.com",
         "9",
         "1382145.0"
        ],
        [
         "37",
         "23snaps.com",
         "5",
         "552251.0"
        ],
        [
         "38",
         "24-7prayer.com",
         "6",
         "159879.0"
        ],
        [
         "39",
         "247blinds.co.uk",
         "6",
         "191885.0"
        ],
        [
         "40",
         "24hourwristbands.ca",
         "3",
         "2063117.0"
        ],
        [
         "41",
         "27boutique.com",
         "11",
         "2152722.0"
        ],
        [
         "42",
         "2bigfeet.com",
         "7",
         "463846.0"
        ],
        [
         "43",
         "2draw.net",
         "6",
         "1419859.0"
        ],
        [
         "44",
         "2fast4buds.com",
         "3",
         "122702.0"
        ],
        [
         "45",
         "2hraquarist.com",
         "9",
         "1651864.0"
        ],
        [
         "46",
         "2karandasha.ru",
         "6",
         "345857.0"
        ],
        [
         "47",
         "310nutrition.com",
         "10",
         "646934.0"
        ],
        [
         "49",
         "343industries.org",
         "4",
         "1815341.0"
        ],
        [
         "50",
         "360totalsecurity.com",
         "6",
         "7029.0"
        ],
        [
         "51",
         "365mashbir.co.il",
         "6",
         "189617.0"
        ],
        [
         "56",
         "3eonline.com",
         "6",
         "323858.0"
        ],
        [
         "57",
         "3hentai.net",
         "6",
         "7456.0"
        ],
        [
         "58",
         "401games.ca",
         "10",
         "77068.0"
        ],
        [
         "59",
         "40billion.com",
         "6",
         "74131.0"
        ],
        [
         "60",
         "42.fr",
         "4",
         "55270.0"
        ],
        [
         "61",
         "420science.com",
         "9",
         "480874.0"
        ],
        [
         "62",
         "45books.com",
         "4",
         "997032.0"
        ],
        [
         "64",
         "4d.com",
         "7",
         "231669.0"
        ]
       ],
       "shape": {
        "columns": 3,
        "rows": 6175
       }
      },
      "text/html": [
       "<div>\n",
       "<style scoped>\n",
       "    .dataframe tbody tr th:only-of-type {\n",
       "        vertical-align: middle;\n",
       "    }\n",
       "\n",
       "    .dataframe tbody tr th {\n",
       "        vertical-align: top;\n",
       "    }\n",
       "\n",
       "    .dataframe thead th {\n",
       "        text-align: right;\n",
       "    }\n",
       "</style>\n",
       "<table border=\"1\" class=\"dataframe\">\n",
       "  <thead>\n",
       "    <tr style=\"text-align: right;\">\n",
       "      <th></th>\n",
       "      <th>Website</th>\n",
       "      <th>Number of Violations</th>\n",
       "      <th>tranco_rank</th>\n",
       "    </tr>\n",
       "  </thead>\n",
       "  <tbody>\n",
       "    <tr>\n",
       "      <th>1</th>\n",
       "      <td>100000jobs.ch</td>\n",
       "      <td>4</td>\n",
       "      <td>2338998.0</td>\n",
       "    </tr>\n",
       "    <tr>\n",
       "      <th>2</th>\n",
       "      <td>100hires.com</td>\n",
       "      <td>2</td>\n",
       "      <td>935835.0</td>\n",
       "    </tr>\n",
       "    <tr>\n",
       "      <th>3</th>\n",
       "      <td>100thieves.com</td>\n",
       "      <td>9</td>\n",
       "      <td>343876.0</td>\n",
       "    </tr>\n",
       "    <tr>\n",
       "      <th>5</th>\n",
       "      <td>111skin.com</td>\n",
       "      <td>7</td>\n",
       "      <td>409507.0</td>\n",
       "    </tr>\n",
       "    <tr>\n",
       "      <th>7</th>\n",
       "      <td>11bravos.com</td>\n",
       "      <td>6</td>\n",
       "      <td>1533377.0</td>\n",
       "    </tr>\n",
       "    <tr>\n",
       "      <th>...</th>\n",
       "      <td>...</td>\n",
       "      <td>...</td>\n",
       "      <td>...</td>\n",
       "    </tr>\n",
       "    <tr>\n",
       "      <th>10139</th>\n",
       "      <td>zuluandzephyr.com</td>\n",
       "      <td>5</td>\n",
       "      <td>941399.0</td>\n",
       "    </tr>\n",
       "    <tr>\n",
       "      <th>10140</th>\n",
       "      <td>zunior.com</td>\n",
       "      <td>11</td>\n",
       "      <td>2057587.0</td>\n",
       "    </tr>\n",
       "    <tr>\n",
       "      <th>10141</th>\n",
       "      <td>zuppler.com</td>\n",
       "      <td>3</td>\n",
       "      <td>184123.0</td>\n",
       "    </tr>\n",
       "    <tr>\n",
       "      <th>10142</th>\n",
       "      <td>zurchers.com</td>\n",
       "      <td>5</td>\n",
       "      <td>699795.0</td>\n",
       "    </tr>\n",
       "    <tr>\n",
       "      <th>10143</th>\n",
       "      <td>zweiggroup.com</td>\n",
       "      <td>5</td>\n",
       "      <td>685178.0</td>\n",
       "    </tr>\n",
       "  </tbody>\n",
       "</table>\n",
       "<p>6175 rows × 3 columns</p>\n",
       "</div>"
      ],
      "text/plain": [
       "                 Website  Number of Violations  tranco_rank\n",
       "1          100000jobs.ch                     4    2338998.0\n",
       "2           100hires.com                     2     935835.0\n",
       "3         100thieves.com                     9     343876.0\n",
       "5            111skin.com                     7     409507.0\n",
       "7           11bravos.com                     6    1533377.0\n",
       "...                  ...                   ...          ...\n",
       "10139  zuluandzephyr.com                     5     941399.0\n",
       "10140         zunior.com                    11    2057587.0\n",
       "10141        zuppler.com                     3     184123.0\n",
       "10142       zurchers.com                     5     699795.0\n",
       "10143     zweiggroup.com                     5     685178.0\n",
       "\n",
       "[6175 rows x 3 columns]"
      ]
     },
     "execution_count": 4,
     "metadata": {},
     "output_type": "execute_result"
    }
   ],
   "source": [
    "t_df['domain']\n",
    "\n",
    "tranco_rank_dict = t_df.set_index('domain')['rank']\n",
    "def get_tranco_rank(row):\n",
    "    if row[\"Website\"] in tranco_rank_dict:\n",
    "        return tranco_rank_dict[row[\"Website\"]]\n",
    "    else:\n",
    "        return None\n",
    "\n",
    "df[\"tranco_rank\"] = df.apply(get_tranco_rank, axis=1)\n",
    "df.dropna(subset=['tranco_rank'])"
   ]
  },
  {
   "cell_type": "code",
   "execution_count": 5,
   "metadata": {},
   "outputs": [],
   "source": [
    "# sort values\n",
    "df.sort_values(by=['tranco_rank'])\n",
    "df.to_csv('tranco_rank_of_signups.csv', encoding='utf-8')"
   ]
  },
  {
   "cell_type": "code",
   "execution_count": 6,
   "metadata": {},
   "outputs": [
    {
     "data": {
      "image/png": "[encoded data removed]",
      "text/plain": [
       "<Figure size 640x480 with 1 Axes>"
      ]
     },
     "metadata": {},
     "output_type": "display_data"
    }
   ],
   "source": [
    "\n",
    "x = np.log(df[\"tranco_rank\"])\n",
    "y = df[\"Number of Violations\"]\n",
    "np.random.seed(42)\n",
    "c = np.random.randint(1,5,size=len(x))\n",
    "norm = plt.Normalize(1,4)\n",
    "cmap = plt.cm.RdYlGn\n",
    "\n",
    "fig,ax = plt.subplots()\n",
    "sc = plt.scatter(x,y,c=c, s=25, cmap=cmap, norm=norm)\n",
    "ax.set_ylabel(\"Number of Violations\")\n",
    "ax.set_xlabel(\"Log of Tranco Rank\")\n",
    "annot = ax.annotate(\"\", xy=(0,0), xytext=(20,20),textcoords=\"offset points\",\n",
    "                    bbox=dict(boxstyle=\"round\", fc=\"w\"),\n",
    "                    arrowprops=dict(arrowstyle=\"->\"))\n",
    "annot.set_visible(False)\n",
    "\n",
    "\n",
    "plt.savefig('tranco_rank.pdf', format=\"pdf\", bbox_inches=\"tight\")\n",
    "plt.show()\n"
   ]
  },
  {
   "cell_type": "code",
   "execution_count": 6,
   "metadata": {},
   "outputs": [
    {
     "name": "stdout",
     "output_type": "stream",
     "text": [
      "       tranco_rank                  website  violations\n",
      "214        35870.0               castos.com           1\n",
      "534       300268.0                hiboy.com           3\n",
      "908       372534.0  patagoniaprovisions.com           3\n",
      "1248      851594.0     thmarinesupplies.com           4\n",
      "1666       74548.0               adlice.com           5\n",
      "2302     2575647.0      ashleylongshore.com           6\n",
      "2392       16159.0            aufeminin.com           6\n",
      "2479      984941.0               aylien.com           2\n",
      "2741     2385365.0      bellahousewares.com           7\n",
      "3119      572822.0        bondiboost.com.au           7\n",
      "3260      148944.0              brumate.com           6\n",
      "3317      197136.0               bunaai.com           8\n",
      "3568      571879.0      cashgenerator.co.uk           6\n",
      "3640     1284766.0  centrosdeadicciones.com           6\n",
      "4017      763851.0        collect-world.com           5\n",
      "4073     2087965.0           compubench.com           4\n",
      "4183      491373.0               cosbar.com           2\n",
      "4413     3640561.0           cuteprofit.com           6\n",
      "4494      504392.0              danskin.com           7\n",
      "4615     2873165.0            dellamoda.com           9\n",
      "5039      257760.0   dunhilltraveldeals.com           5\n",
      "5390     2451308.0         englewoodgov.org           5\n",
      "5501     2465200.0          ethicalbean.com           8\n",
      "6071     2390430.0          foxbackdrop.com           5\n",
      "6554      379298.0               gogift.com           7\n",
      "6587      595840.0   gonzalezgimenez.com.py           7\n",
      "6659     1894391.0       gowiseproducts.com           3\n",
      "7198      608271.0              horydoly.cz           8\n",
      "7608      711497.0         internetstart.se           3\n",
      "7874      402999.0             jmgworld.com           8\n",
      "8025      928692.0             kakimori.com          11\n",
      "8156       98459.0      kidshelpline.com.au           9\n",
      "8701      175222.0             lingopie.com           5\n",
      "9665     1592061.0           molodesign.com           3\n",
      "9668     1730631.0                 momie.fr           7\n",
      "9826     2941787.0          muhadharaty.com          10\n",
      "9963      736813.0            mypoojabox.in           7\n",
      "10117     348697.0               netfarm.it           6\n",
      "11295    1107922.0               popvox.com           5\n",
      "11419    4193373.0  printerinkcartridges.ie           9\n",
      "11456    2039255.0             profotos.com          11\n",
      "11536    1280808.0          puffingbird.com           7\n",
      "11696     597472.0           ram-e-shop.com           5\n",
      "11927    2473567.0                 rfpa.org           7\n",
      "12188    3957197.0            saferingz.com           4\n",
      "12481     698341.0            servebolt.com           3\n",
      "12728     654129.0           shopnewage.com          12\n",
      "12979    1180285.0      snapwireless.com.au           6\n",
      "13331      75537.0                  sten.to           1\n",
      "13596     731585.0              swapacd.com          10\n",
      "13613      36389.0           swimoutlet.com           4\n",
      "13700     692144.0           tantannews.com           4\n",
      "13716    1066211.0          tastersclub.com           7\n",
      "14076     361672.0         theparentcue.org           7\n",
      "14516    2036672.0              truelds.com           5\n",
      "14542    1775737.0           tufanomoda.com           6\n",
      "15523    1139079.0              wpfrank.com           4\n",
      "15908     992511.0            appalshop.org           4\n",
      "16836    2037898.0           openpraxis.org           2\n",
      "17023    1104886.0             saranoni.com           1\n"
     ]
    }
   ],
   "source": [
    "sample_size = 30\n",
    "\n",
    "# Calculate median of log\n",
    "median_log_rank = np.nanmedian(np.log(df[\"tranco_rank\"]))\n",
    "left_data = df[\"tranco_rank\"][df[\"tranco_rank\"] <= np.exp(median_log_rank)]\n",
    "right_data = df[\"tranco_rank\"][df[\"tranco_rank\"] > np.exp(median_log_rank)]\n",
    "\n",
    "# Sample data and violations\n",
    "left_sample = np.random.choice(left_data, size=sample_size, replace=False)\n",
    "right_sample = np.random.choice(right_data, size=sample_size, replace=False)\n",
    "sampled_data = np.concatenate((left_sample, right_sample))\n",
    "sampled_violations = df.loc[df[\"tranco_rank\"].isin(sampled_data), [\"tranco_rank\", \"website\", \"violations\"]]\n",
    "\n",
    "\n",
    "print(sampled_violations)\n",
    "sampled_violations.to_csv('sampled_violations.csv', encoding='utf-8')"
   ]
  }
 ],
 "metadata": {
  "kernelspec": {
   "display_name": "Python 3",
   "language": "python",
   "name": "python3"
  },
  "language_info": {
   "codemirror_mode": {
    "name": "ipython",
    "version": 3
   },
   "file_extension": ".py",
   "mimetype": "text/x-python",
   "name": "python",
   "nbconvert_exporter": "python",
   "pygments_lexer": "ipython3",
   "version": "3.12.6"
  }
 },
 "nbformat": 4,
 "nbformat_minor": 2
}
