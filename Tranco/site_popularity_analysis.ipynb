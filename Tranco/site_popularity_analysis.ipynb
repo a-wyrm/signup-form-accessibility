{
 "cells": [
  {
   "cell_type": "code",
   "execution_count": 2,
   "metadata": {},
   "outputs": [],
   "source": [
    "import matplotlib.pyplot as plt\n",
    "import numpy as np\n",
    "import pandas as pd\n",
    "import seaborn as sns"
   ]
  },
  {
   "cell_type": "code",
   "execution_count": 3,
   "metadata": {},
   "outputs": [],
   "source": [
    "df = pd.read_csv(\"./website_list.csv\")\n",
    "df['tranco_rank'] = \"\"\n",
    "t_df = pd.read_csv(\"./tranco_LJGY4.csv\")"
   ]
  },
  {
   "cell_type": "code",
   "execution_count": 25,
   "metadata": {},
   "outputs": [
    {
     "data": {
      "text/html": [
       "<div>\n",
       "<style scoped>\n",
       "    .dataframe tbody tr th:only-of-type {\n",
       "        vertical-align: middle;\n",
       "    }\n",
       "\n",
       "    .dataframe tbody tr th {\n",
       "        vertical-align: top;\n",
       "    }\n",
       "\n",
       "    .dataframe thead th {\n",
       "        text-align: right;\n",
       "    }\n",
       "</style>\n",
       "<table border=\"1\" class=\"dataframe\">\n",
       "  <thead>\n",
       "    <tr style=\"text-align: right;\">\n",
       "      <th></th>\n",
       "      <th>website</th>\n",
       "      <th>tranco_rank</th>\n",
       "    </tr>\n",
       "  </thead>\n",
       "  <tbody>\n",
       "    <tr>\n",
       "      <th>0</th>\n",
       "      <td>10deep.com</td>\n",
       "      <td>1643300.0</td>\n",
       "    </tr>\n",
       "    <tr>\n",
       "      <th>1</th>\n",
       "      <td>1a.ee</td>\n",
       "      <td>170768.0</td>\n",
       "    </tr>\n",
       "    <tr>\n",
       "      <th>2</th>\n",
       "      <td>1thrive.com</td>\n",
       "      <td>3616719.0</td>\n",
       "    </tr>\n",
       "    <tr>\n",
       "      <th>6</th>\n",
       "      <td>4moms.com</td>\n",
       "      <td>266995.0</td>\n",
       "    </tr>\n",
       "    <tr>\n",
       "      <th>7</th>\n",
       "      <td>4xshaft.com</td>\n",
       "      <td>2073271.0</td>\n",
       "    </tr>\n",
       "    <tr>\n",
       "      <th>...</th>\n",
       "      <td>...</td>\n",
       "      <td>...</td>\n",
       "    </tr>\n",
       "    <tr>\n",
       "      <th>17427</th>\n",
       "      <td>zencast.fm</td>\n",
       "      <td>429358.0</td>\n",
       "    </tr>\n",
       "    <tr>\n",
       "      <th>17428</th>\n",
       "      <td>zerowater.com</td>\n",
       "      <td>454141.0</td>\n",
       "    </tr>\n",
       "    <tr>\n",
       "      <th>17430</th>\n",
       "      <td>zishy.com</td>\n",
       "      <td>244826.0</td>\n",
       "    </tr>\n",
       "    <tr>\n",
       "      <th>17431</th>\n",
       "      <td>zmiiv-service.com.ua</td>\n",
       "      <td>1435698.0</td>\n",
       "    </tr>\n",
       "    <tr>\n",
       "      <th>17434</th>\n",
       "      <td>zukan.com</td>\n",
       "      <td>545923.0</td>\n",
       "    </tr>\n",
       "  </tbody>\n",
       "</table>\n",
       "<p>10345 rows × 2 columns</p>\n",
       "</div>"
      ],
      "text/plain": [
       "                    website  tranco_rank\n",
       "0                10deep.com    1643300.0\n",
       "1                     1a.ee     170768.0\n",
       "2               1thrive.com    3616719.0\n",
       "6                 4moms.com     266995.0\n",
       "7               4xshaft.com    2073271.0\n",
       "...                     ...          ...\n",
       "17427            zencast.fm     429358.0\n",
       "17428         zerowater.com     454141.0\n",
       "17430             zishy.com     244826.0\n",
       "17431  zmiiv-service.com.ua    1435698.0\n",
       "17434             zukan.com     545923.0\n",
       "\n",
       "[10345 rows x 2 columns]"
      ]
     },
     "execution_count": 25,
     "metadata": {},
     "output_type": "execute_result"
    }
   ],
   "source": [
    "t_df['domain']\n",
    "\n",
    "tranco_rank_dict = t_df.set_index('domain')['rank']\n",
    "def get_tranco_rank(row):\n",
    "    if row[\"website\"] in tranco_rank_dict:\n",
    "        return tranco_rank_dict[row[\"website\"]]\n",
    "    else:\n",
    "        return None\n",
    "\n",
    "df[\"tranco_rank\"] = df.apply(get_tranco_rank, axis=1)\n",
    "df.dropna(subset=['tranco_rank'])"
   ]
  },
  {
   "cell_type": "code",
   "execution_count": 30,
   "metadata": {},
   "outputs": [],
   "source": [
    "# sort values\n",
    "df.sort_values(by=['tranco_rank'])\n",
    "df.to_csv('file_name.csv', encoding='utf-8')"
   ]
  }
 ],
 "metadata": {
  "kernelspec": {
   "display_name": "Python 3",
   "language": "python",
   "name": "python3"
  },
  "language_info": {
   "codemirror_mode": {
    "name": "ipython",
    "version": 3
   },
   "file_extension": ".py",
   "mimetype": "text/x-python",
   "name": "python",
   "nbconvert_exporter": "python",
   "pygments_lexer": "ipython3",
   "version": "3.12.6"
  }
 },
 "nbformat": 4,
 "nbformat_minor": 2
}
